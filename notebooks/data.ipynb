{
 "cells": [
  {
   "cell_type": "code",
   "execution_count": 4,
   "metadata": {},
   "outputs": [],
   "source": [
    "import sys\n",
    "sys.path.insert(0,\"..\")\n",
    "import h5py\n",
    "import numpy as np\n",
    "import matplotlib.pyplot as plt\n",
    "import torch\n",
    "import torch.nn as nn\n",
    "import torch.nn.functional as F\n",
    "import random as rd\n",
    "from src.utils import *\n",
    "import seaborn as sns\n",
    "import matplotlib.cm as cm\n",
    "\n",
    "from src.utils import get_idx_val_2D"
   ]
  },
  {
   "cell_type": "code",
   "execution_count": 2,
   "metadata": {},
   "outputs": [
    {
     "name": "stdout",
     "output_type": "stream",
     "text": [
      "Keys: <KeysViewHDF5 ['y']>\n",
      "<class 'h5py._hl.dataset.Dataset'>\n",
      "Keys: <KeysViewHDF5 ['y']>\n",
      "<class 'h5py._hl.dataset.Dataset'>\n"
     ]
    }
   ],
   "source": [
    "# filename = \"/home/abigeard/RA_CCS/DeepGenerativeModelsCCS/data/observations64.hdf5\"\n",
    "filename = \"/home/abigeard/RA_CCS/DeepGenerativeModelsCCS/data/ore_maps_observations_32.hdf5\"\n",
    "with h5py.File(filename, \"r\") as f:\n",
    "    print(\"Keys: %s\" % f.keys())\n",
    "    # get first object name/key; may or may NOT be a group\n",
    "    a_group_key = list(f.keys())[0]\n",
    "\n",
    "    # get the object type for a_group_key: usually group or dataset\n",
    "    print(type(f[a_group_key])) \n",
    "\n",
    "    # If a_group_key is a group name, \n",
    "    # this gets the object names in the group and returns as a list\n",
    "    data = list(f[a_group_key])\n",
    "\n",
    "    # If a_group_key is a dataset name, \n",
    "    # this gets the dataset values and returns as a list\n",
    "    # preferred methods to get dataset values:\n",
    "    ds_obj = f[a_group_key]      # returns as a h5py dataset object\n",
    "    ds_arr = f[a_group_key][()]  # returns as a numpy array\n",
    "# filename = \"/home/abigeard/RA_CCS/DeepGenerativeModelsCCS/data/observations64.hdf5\"\n",
    "filename = \"/home/abigeard/RA_CCS/DeepGenerativeModelsCCS/data/ore_maps_test_obs_32.hdf5\"\n",
    "with h5py.File(filename, \"r\") as f:\n",
    "    print(\"Keys: %s\" % f.keys())\n",
    "    # get first object name/key; may or may NOT be a group\n",
    "    a_group_key = list(f.keys())[0]\n",
    "\n",
    "    # get the object type for a_group_key: usually group or dataset\n",
    "    print(type(f[a_group_key])) \n",
    "\n",
    "    # If a_group_key is a group name, \n",
    "    # this gets the object names in the group and returns as a list\n",
    "    data2 = list(f[a_group_key])\n",
    "\n",
    "    # If a_group_key is a dataset name, \n",
    "    # this gets the dataset values and returns as a list\n",
    "    # preferred methods to get dataset values:\n",
    "    ds_obj = f[a_group_key]      # returns as a h5py dataset object\n",
    "    ds_arr = f[a_group_key][()]  # returns as a numpy array"
   ]
  },
  {
   "cell_type": "code",
   "execution_count": 6,
   "metadata": {},
   "outputs": [
    {
     "ename": "IndexError",
     "evalue": "tuple index out of range",
     "output_type": "error",
     "traceback": [
      "\u001b[0;31m---------------------------------------------------------------------------\u001b[0m",
      "\u001b[0;31mIndexError\u001b[0m                                Traceback (most recent call last)",
      "Cell \u001b[0;32mIn [6], line 1\u001b[0m\n\u001b[0;32m----> 1\u001b[0m \u001b[39mprint\u001b[39m(get_idx_val_2D(torch\u001b[39m.\u001b[39mTensor(data[\u001b[39m0\u001b[39m])))\n",
      "File \u001b[0;32m~/RA_CCS/DeepGenerativeModelsCCS/notebooks/../src/utils.py:299\u001b[0m, in \u001b[0;36mget_idx_val_2D\u001b[0;34m(y)\u001b[0m\n\u001b[1;32m    297\u001b[0m \u001b[39mif\u001b[39;00m y\u001b[39m.\u001b[39mdim() \u001b[39m==\u001b[39m \u001b[39m3\u001b[39m:\n\u001b[1;32m    298\u001b[0m     nonzero_idx \u001b[39m=\u001b[39m torch\u001b[39m.\u001b[39mwhere(y[\u001b[39m0\u001b[39m, :, :])\n\u001b[0;32m--> 299\u001b[0m     \u001b[39mreturn\u001b[39;00m nonzero_idx, y[\u001b[39m1\u001b[39m, nonzero_idx[\u001b[39m1\u001b[39m], nonzero_idx[\u001b[39m2\u001b[39;49m]]\n\u001b[1;32m    300\u001b[0m \u001b[39m# size [B, 2, 64, 64]\u001b[39;00m\n\u001b[1;32m    301\u001b[0m \u001b[39mif\u001b[39;00m y\u001b[39m.\u001b[39mdim() \u001b[39m==\u001b[39m \u001b[39m4\u001b[39m:\n",
      "\u001b[0;31mIndexError\u001b[0m: tuple index out of range"
     ]
    }
   ],
   "source": [
    "print(get_idx_val_2D(torch.Tensor(data[0])))"
   ]
  },
  {
   "cell_type": "code",
   "execution_count": null,
   "metadata": {},
   "outputs": [],
   "source": [
    "i=10\n",
    "s = data[i]\n",
    "y = data2[i]\n",
    "s=torch.Tensor(s)\n",
    "y = torch.Tensor(y).unsqueeze(0)\n",
    "print(y.shape)\n",
    "y_1_idxs=get_idx_val_2D(y)\n",
    "cmap = cm.viridis\n",
    "fig, ax=plt.subplots()\n",
    "plt.imshow(s.squeeze().detach().cpu(), cmap=cmap)\n",
    "# sns.heatmap(y[0,1].squeeze().detach().cpu())\n",
    "# fig, ax = plt.subplots(subplot_kw={\"projection\": \"3d\"})\n",
    "# X, Y = np.arange(0, 64, 1), np.arange(0, 64, 1)\n",
    "# X, Y = np.meshgrid(X, Y)\n",
    "# ax.plot_surface(X, Y, s.squeeze().detach().cpu())\n",
    "for j in range(len(y_1_idxs[0][0])):\n",
    "    observation_pt = (y_1_idxs[0][0][j].cpu(), y_1_idxs[1][0][j].cpu())\n",
    "    plt.scatter(\n",
    "        [observation_pt[0][1]],\n",
    "        [observation_pt[0][0]],\n",
    "        color=cmap(observation_pt[1]),\n",
    "        marker='.',\n",
    "        cmap=cmap,\n",
    "        s=75,\n",
    "        edgecolors='black',\n",
    "    )\n",
    "# for j in range(len(y_1_idxs[0][0])):\n",
    "#     observation_pt = (y_1_idxs[0][0][j].cpu(), y_1_idxs[1][0][j].cpu())\n",
    "#     ax.scatter(\n",
    "#         [observation_pt[0][0]],\n",
    "#         [observation_pt[0][1]],\n",
    "#         [observation_pt[1]],\n",
    "#         s=25,\n",
    "#         c=\"r\",\n",
    "#     )"
   ]
  },
  {
   "cell_type": "code",
   "execution_count": null,
   "metadata": {},
   "outputs": [],
   "source": [
    "data2[0].shape"
   ]
  },
  {
   "cell_type": "code",
   "execution_count": null,
   "metadata": {},
   "outputs": [],
   "source": [
    "observations = []\n",
    "surfaces = []\n",
    "for s in data:\n",
    "    n_pts = rd.randint(20,30)\n",
    "    s = torch.Tensor(s).squeeze()\n",
    "    # s = F.interpolate(torch.Tensor(s).unsqueeze(0), scale_factor=(32/50,32/50), mode=\"bilinear\").squeeze()\n",
    "    new_obs = np.zeros((2, s.shape[0], s.shape[1]))\n",
    "    obs = random_observation_ore_maps(s.unsqueeze(0).unsqueeze(0)).squeeze()\n",
    "    observations.append(np.array(obs))\n",
    "    surfaces.append(np.array(s.unsqueeze(0)))"
   ]
  },
  {
   "cell_type": "code",
   "execution_count": null,
   "metadata": {},
   "outputs": [],
   "source": [
    "np.stack(observations).shape"
   ]
  },
  {
   "cell_type": "code",
   "execution_count": null,
   "metadata": {},
   "outputs": [],
   "source": [
    "with h5py.File(\"/home/abigeard/RA_CCS/DeepGenerativeModelsCCS/data/ore_maps_observations_32.hdf5\", \"w\") as f:\n",
    "    dset = f.create_dataset(\"y\", data=np.stack(observations))\n",
    "with h5py.File(\"/home/abigeard/RA_CCS/DeepGenerativeModelsCCS/data/ore_maps_32.hdf5\", \"w\") as f:\n",
    "    dset = f.create_dataset(\"X\", data=np.stack(surfaces))"
   ]
  },
  {
   "cell_type": "code",
   "execution_count": null,
   "metadata": {},
   "outputs": [],
   "source": [
    "test = data2[1].reshape(10,2,64)\n",
    "test = torch.Tensor(test)\n",
    "nonzero = torch.where(test>0)\n",
    "# nonzero = nonzero[0].unique(),nonzero[1].unique(),nonzero[2].unique()\n",
    "points = test[nonzero[0], :, nonzero[2]][:,1]\n",
    "plt.plot(points)"
   ]
  },
  {
   "cell_type": "code",
   "execution_count": null,
   "metadata": {},
   "outputs": [],
   "source": [
    "trans = nn.Transformer(d_model=64)\n",
    "lstm = nn.LSTM(input_size = 64, hidden_size=128)"
   ]
  },
  {
   "cell_type": "code",
   "execution_count": null,
   "metadata": {},
   "outputs": [],
   "source": [
    "a = torch.Tensor(data2[0][:13])\n",
    "b = torch.Tensor(data2[0][18:20])\n",
    "# trans(a, b).shape\n",
    "lstm(a)[0].shape"
   ]
  },
  {
   "cell_type": "code",
   "execution_count": null,
   "metadata": {},
   "outputs": [],
   "source": []
  }
 ],
 "metadata": {
  "kernelspec": {
   "display_name": "Python 3.10.6 ('deepgenerativemodelsccs-wseG1uU7-py3.10')",
   "language": "python",
   "name": "python3"
  },
  "language_info": {
   "codemirror_mode": {
    "name": "ipython",
    "version": 3
   },
   "file_extension": ".py",
   "mimetype": "text/x-python",
   "name": "python",
   "nbconvert_exporter": "python",
   "pygments_lexer": "ipython3",
   "version": "3.10.6"
  },
  "orig_nbformat": 4,
  "vscode": {
   "interpreter": {
    "hash": "ad4d753b4519846996fc52750081e92dc27bf57e0a03b4ecbc4103ff6a5af451"
   }
  }
 },
 "nbformat": 4,
 "nbformat_minor": 2
}
